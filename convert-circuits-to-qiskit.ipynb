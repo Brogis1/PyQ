{
 "cells": [
  {
   "cell_type": "code",
   "execution_count": 8,
   "metadata": {},
   "outputs": [],
   "source": [
    "import torch\n",
    "import torch.nn as nn\n",
    "import torch.nn.functional as F\n",
    "import torch.nn.init as init\n",
    "\n",
    "import numpy as np\n",
    "import matplotlib.pyplot as plt\n",
    "import networkx as nx\n",
    "\n",
    "from pyqtorch.core.circuit import QuantumCircuit\n",
    "from pyqtorch.ansatz import AlternateLayerAnsatz\n",
    "from pyqtorch.embedding import SingleLayerEncoding\n",
    "from pyqtorch.core.operation import Z, RX\n",
    "import math"
   ]
  },
  {
   "cell_type": "code",
   "execution_count": 9,
   "metadata": {},
   "outputs": [
    {
     "name": "stdout",
     "output_type": "stream",
     "text": [
      "<class 'pyqtorch.ansatz.AlternateLayerAnsatz'>\n"
     ]
    },
    {
     "ename": "TypeError",
     "evalue": "forward() missing 1 required positional argument: 'state'",
     "output_type": "error",
     "traceback": [
      "\u001b[0;31m---------------------------------------------------------------------------\u001b[0m",
      "\u001b[0;31mTypeError\u001b[0m                                 Traceback (most recent call last)",
      "Cell \u001b[0;32mIn [9], line 8\u001b[0m\n\u001b[1;32m      4\u001b[0m \u001b[39mprint\u001b[39m(\u001b[39mtype\u001b[39m(ansatz))\n\u001b[1;32m      6\u001b[0m \u001b[39mfrom\u001b[39;00m \u001b[39mpyqtorch\u001b[39;00m\u001b[39m.\u001b[39;00m\u001b[39mconverters\u001b[39;00m\u001b[39m.\u001b[39;00m\u001b[39mto_qiskit\u001b[39;00m \u001b[39mimport\u001b[39;00m pyq2qiskit\n\u001b[0;32m----> 8\u001b[0m qiskit_ansatz \u001b[39m=\u001b[39m pyq2qiskit(ansatz)\n\u001b[1;32m     11\u001b[0m \u001b[39m# Generate state with different batches.\u001b[39;00m\n\u001b[1;32m     12\u001b[0m batch_size \u001b[39m=\u001b[39m \u001b[39m1\u001b[39m\n",
      "File \u001b[0;32m~/PycharmProjects/PyQ/pyqtorch/converters/to_qiskit.py:46\u001b[0m, in \u001b[0;36mpyq2qiskit\u001b[0;34m(circuit, *args, **kwargs)\u001b[0m\n\u001b[1;32m     30\u001b[0m \u001b[39m\"\"\"Convert a PyQ module into an equivalent circuit built with Qiskit\u001b[39;00m\n\u001b[1;32m     31\u001b[0m \n\u001b[1;32m     32\u001b[0m \u001b[39mThis routine can be used for visualizing the quantum circuit models\u001b[39;00m\n\u001b[0;32m   (...)\u001b[0m\n\u001b[1;32m     43\u001b[0m \u001b[39m    qiskit.QuantumCircuit: A QuantumCircuit instance from the Qiskit library\u001b[39;00m\n\u001b[1;32m     44\u001b[0m \u001b[39m\"\"\"\u001b[39;00m\n\u001b[1;32m     45\u001b[0m \u001b[39m# execute the forward pass to populate the operation cache\u001b[39;00m\n\u001b[0;32m---> 46\u001b[0m _ \u001b[39m=\u001b[39m circuit(\u001b[39m*\u001b[39;49margs, \u001b[39m*\u001b[39;49m\u001b[39m*\u001b[39;49mkwargs)\n\u001b[1;32m     47\u001b[0m \u001b[39massert\u001b[39;00m \u001b[39mlen\u001b[39m(ops_cache\u001b[39m.\u001b[39moperations) \u001b[39m>\u001b[39m \u001b[39m0\u001b[39m, \u001b[39m\"\u001b[39m\u001b[39mConverting to Qiskit an empty circuit\u001b[39m\u001b[39m\"\u001b[39m\n\u001b[1;32m     49\u001b[0m \u001b[39m# build the Qiskit circuit starting from the list of operations\u001b[39;00m\n\u001b[1;32m     50\u001b[0m \u001b[39m# in the PyQ circuit forward pass\u001b[39;00m\n",
      "File \u001b[0;32m~/miniforge3/envs/qugram/lib/python3.9/site-packages/torch/nn/modules/module.py:1148\u001b[0m, in \u001b[0;36mModule._call_impl\u001b[0;34m(self, *input, **kwargs)\u001b[0m\n\u001b[1;32m   1145\u001b[0m     bw_hook \u001b[39m=\u001b[39m hooks\u001b[39m.\u001b[39mBackwardHook(\u001b[39mself\u001b[39m, full_backward_hooks)\n\u001b[1;32m   1146\u001b[0m     \u001b[39minput\u001b[39m \u001b[39m=\u001b[39m bw_hook\u001b[39m.\u001b[39msetup_input_hook(\u001b[39minput\u001b[39m)\n\u001b[0;32m-> 1148\u001b[0m result \u001b[39m=\u001b[39m forward_call(\u001b[39m*\u001b[39;49m\u001b[39minput\u001b[39;49m, \u001b[39m*\u001b[39;49m\u001b[39m*\u001b[39;49mkwargs)\n\u001b[1;32m   1149\u001b[0m \u001b[39mif\u001b[39;00m _global_forward_hooks \u001b[39mor\u001b[39;00m \u001b[39mself\u001b[39m\u001b[39m.\u001b[39m_forward_hooks:\n\u001b[1;32m   1150\u001b[0m     \u001b[39mfor\u001b[39;00m hook \u001b[39min\u001b[39;00m (\u001b[39m*\u001b[39m_global_forward_hooks\u001b[39m.\u001b[39mvalues(), \u001b[39m*\u001b[39m\u001b[39mself\u001b[39m\u001b[39m.\u001b[39m_forward_hooks\u001b[39m.\u001b[39mvalues()):\n",
      "\u001b[0;31mTypeError\u001b[0m: forward() missing 1 required positional argument: 'state'"
     ]
    }
   ],
   "source": [
    "n_qubits = 1\n",
    "n_layers = 1\n",
    "ansatz = AlternateLayerAnsatz(n_qubits, n_layers)\n",
    "print(type(ansatz))\n",
    "\n",
    "from pyqtorch.converters.to_qiskit import pyq2qiskit\n",
    "\n",
    "qiskit_ansatz = pyq2qiskit(ansatz)\n",
    "\n",
    "\n",
    "# Generate state with different batches.\n",
    "batch_size = 1\n",
    "state = QuantumCircuit(n_qubits).init_state(batch_size)\n",
    "\n",
    "# Reshaping was only necessary for the expectation value.\n",
    "# state = state.reshape((2**n_qubits, batch_size))\n",
    "print(state)\n",
    "print(state.shape)\n",
    "\n",
    "\n",
    "from pyqtorch.converters.to_qiskit import pyq2qiskit\n",
    "\n",
    "qiskit_ansatz = pyq2qiskit(ansatz(state))"
   ]
  },
  {
   "cell_type": "markdown",
   "metadata": {},
   "source": [
    "***\n",
    "# Outcome:\n",
    "- Can't convert to qiskit."
   ]
  },
  {
   "cell_type": "markdown",
   "metadata": {},
   "source": []
  }
 ],
 "metadata": {
  "kernelspec": {
   "display_name": "Python 3.9.13 ('qugram')",
   "language": "python",
   "name": "python3"
  },
  "language_info": {
   "codemirror_mode": {
    "name": "ipython",
    "version": 3
   },
   "file_extension": ".py",
   "mimetype": "text/x-python",
   "name": "python",
   "nbconvert_exporter": "python",
   "pygments_lexer": "ipython3",
   "version": "3.9.13"
  },
  "orig_nbformat": 4,
  "vscode": {
   "interpreter": {
    "hash": "a4fba1bd487736e99db9fa6cac304ab42b086d6841ec6a317a1275c4a1deb14e"
   }
  }
 },
 "nbformat": 4,
 "nbformat_minor": 2
}
