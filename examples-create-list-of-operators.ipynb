{
 "cells": [
  {
   "cell_type": "markdown",
   "metadata": {},
   "source": [
    "# Evaluation of the operator constructed in openfermion on the state.\n"
   ]
  },
  {
   "cell_type": "code",
   "execution_count": 3,
   "metadata": {},
   "outputs": [],
   "source": [
    "from pyqtorch.core.operation import Z, Y, X, RX\n",
    "from pyqtorch.embedding import SingleLayerEncoding\n",
    "from pyqtorch.ansatz import AlternateLayerAnsatz\n",
    "from pyqtorch.core.circuit import QuantumCircuit\n",
    "from pyqtorch.core.measurement import total_magnetization\n",
    "\n",
    "import matplotlib.pyplot as plt\n",
    "\n",
    "import torch\n",
    "import torch.nn as nn\n",
    "import torch.nn.functional as F\n",
    "import torch.nn.init as init\n",
    "\n",
    "import math\n",
    "import networkx as nx\n",
    "import numpy as np\n",
    "import matplotlib as mpl\n",
    "\n",
    "mpl.rcParams[\"figure.figsize\"] = [5, 5]"
   ]
  },
  {
   "cell_type": "code",
   "execution_count": 4,
   "metadata": {},
   "outputs": [],
   "source": [
    "def generate_all_possible_local_terms(n_qubits, initial_list, ops = [\"I\", \"Z\"]):\n",
    "    \"\"\"Generate all possible local terms.\"\"\"\n",
    "    new_pauli_op_list = []\n",
    "    for el in initial_list:\n",
    "        for op1 in ops:\n",
    "            new_pauli_op_list.append(el+op1)\n",
    "    if len(new_pauli_op_list[-1]) == n_qubits:\n",
    "        return new_pauli_op_list\n",
    "    else:\n",
    "        return generate_all_possible_local_terms(n_qubits, new_pauli_op_list, ops=ops)\n",
    "\n",
    "\n",
    "def filter_k_local_terms(list_pauli_terms, locality, ops = [\"Z\"]):\n",
    "    \"\"\"Filter k local terms.\"\"\"\n",
    "    terms = []\n",
    "    for term in list_pauli_terms:\n",
    "        k = 0\n",
    "        for char in term:\n",
    "            if char in ops:\n",
    "                k+=1\n",
    "        if k == locality:\n",
    "            terms.append(term)\n",
    "    return terms"
   ]
  },
  {
   "cell_type": "code",
   "execution_count": 5,
   "metadata": {},
   "outputs": [
    {
     "name": "stdout",
     "output_type": "stream",
     "text": [
      "['II', 'IZ', 'ZI', 'ZZ']\n",
      "---------------------------------------------------\n",
      "['IZ', 'ZI']\n",
      "['ZZ']\n",
      "[]\n",
      "[]\n",
      "[]\n",
      "---------------------------------------------------\n",
      "['II', 'IX', 'XI', 'XX']\n",
      "['IX', 'XI']\n"
     ]
    }
   ],
   "source": [
    "n_qubits = 2\n",
    "\n",
    "# generate all pauli terms and divide into some sets\n",
    "\n",
    "list_all_pauli_terms = generate_all_possible_local_terms(n_qubits, [\"\"])\n",
    "print(list_all_pauli_terms)\n",
    "print(\"---------------------------------------------------\")\n",
    "one_local_terms = filter_k_local_terms(list_all_pauli_terms, 1)\n",
    "print(one_local_terms)\n",
    "two_local_terms = filter_k_local_terms(list_all_pauli_terms, 2)\n",
    "print(two_local_terms)\n",
    "three_local_terms = filter_k_local_terms(list_all_pauli_terms, 3)\n",
    "print(three_local_terms)\n",
    "four_local_terms = filter_k_local_terms(list_all_pauli_terms, 4)\n",
    "print(four_local_terms)\n",
    "five_local_terms = filter_k_local_terms(list_all_pauli_terms, 5)\n",
    "print(five_local_terms)\n",
    "print(\"---------------------------------------------------\")\n",
    "list_all_pauli_X_terms = generate_all_possible_local_terms(n_qubits, [\"\"], ops = [\"I\",\"X\"])\n",
    "print(list_all_pauli_X_terms)\n",
    "one_local_X_terms = filter_k_local_terms(list_all_pauli_X_terms, 1, ops = [\"X\"])\n",
    "print(one_local_X_terms)\n",
    "\n",
    "hamiltonian_pauli_terms = list_all_pauli_terms"
   ]
  },
  {
   "cell_type": "code",
   "execution_count": 22,
   "metadata": {},
   "outputs": [
    {
     "name": "stdout",
     "output_type": "stream",
     "text": [
      "Z0 Z1\n",
      "1.0 [Z0 Z1]\n"
     ]
    }
   ],
   "source": [
    "from openfermion.ops import QubitOperator\n",
    "\n",
    "# TODO: I need to convert to openfermion format.\n",
    "\n",
    "\n",
    "def convert_pauli_to_openfermion_stringformat(pauli_str):\n",
    "    openfermion_pauli_str = \"\"\n",
    "    for qubit, term in enumerate(pauli_str):\n",
    "        if term != \"I\":\n",
    "            openfermion_pauli_str += f\"{term}{qubit} \"\n",
    "    return openfermion_pauli_str.rstrip()\n",
    "\n",
    "\n",
    "openfermion_pauli_str = convert_pauli_to_openfermion_stringformat(\"ZZ\")\n",
    "print(openfermion_pauli_str)\n",
    "\n",
    "\n",
    "# Convert from string to this way.\n",
    "operator = QubitOperator(openfermion_pauli_str, 1.0)\n",
    "print(operator)"
   ]
  },
  {
   "cell_type": "code",
   "execution_count": null,
   "metadata": {},
   "outputs": [],
   "source": [
    "# Convert all operators in the list to Pauli operators.\n",
    "\n",
    "\n"
   ]
  },
  {
   "cell_type": "code",
   "execution_count": 31,
   "metadata": {},
   "outputs": [
    {
     "name": "stdout",
     "output_type": "stream",
     "text": [
      "Parameter containing:\n",
      "tensor([1., 1., 1., 1.], requires_grad=True)\n"
     ]
    }
   ],
   "source": [
    "# Define the function for the parameters.\n",
    "hamiltonian_coefficients = nn.Parameter(\n",
    "    torch.ones(\n",
    "        len(hamiltonian_pauli_terms),\n",
    "    )\n",
    ")\n",
    "print(hamiltonian_coefficients)"
   ]
  },
  {
   "cell_type": "code",
   "execution_count": 32,
   "metadata": {},
   "outputs": [],
   "source": [
    "# TODO: this is original function\n",
    "def measure_openfermion(state, operator, N_qubits, batch_size):\n",
    "    new_state = torch.zeros_like(state)\n",
    "\n",
    "    for op, coef in operator.terms.items():\n",
    "        for qubit, pauli in op:\n",
    "            state_bis = qubit_operators[pauli](state, [qubit], N_qubits)\n",
    "            new_state += state_bis * coef\n",
    "\n",
    "    state = state.reshape((2**N_qubits, batch_size))\n",
    "    new_state = new_state.reshape((2**N_qubits, batch_size))\n",
    "\n",
    "    return torch.real(\n",
    "        torch.sum(torch.conj(state) * new_state, axis=0))"
   ]
  },
  {
   "cell_type": "code",
   "execution_count": 33,
   "metadata": {},
   "outputs": [
    {
     "name": "stdout",
     "output_type": "stream",
     "text": [
      "tensor([[[1.+0.j],\n",
      "         [0.+0.j]],\n",
      "\n",
      "        [[0.+0.j],\n",
      "         [0.+0.j]]], dtype=torch.complex128)\n",
      "torch.Size([2, 2, 1])\n",
      "tensor([2.], dtype=torch.float64, grad_fn=<SelectBackward0>)\n"
     ]
    }
   ],
   "source": [
    "# Generate state with different batches.\n",
    "batch_size = 1\n",
    "state = QuantumCircuit(n_qubits).init_state(batch_size)\n",
    "# Reshaping was only necessary for the expectation value.\n",
    "# state = state.reshape((2**n_qubits, batch_size))\n",
    "print(state)\n",
    "print(state.shape)\n",
    "\n",
    "# Generate the expectation value of the state.\n",
    "new_state = torch.zeros_like(state)\n",
    "qubit_operators = {'X': X, 'Y': Y, 'Z': Z}\n",
    "for op, coef in operator.terms.items():\n",
    "    for idx, qubitpauli in enumerate(op):\n",
    "        qubit, pauli = qubitpauli\n",
    "        state_bis = qubit_operators[pauli](state, [qubit], n_qubits)\n",
    "        new_state += state_bis * coef * hamiltonian_coefficients[idx]\n",
    "# original state\n",
    "state = state.reshape((2**n_qubits, batch_size))\n",
    "# state multipled by the pauli operators.\n",
    "new_state = new_state.reshape((2**n_qubits, batch_size))\n",
    "# expectation value\n",
    "expectation_value =  torch.real(\n",
    "    torch.sum(torch.conj(state) * new_state, axis=0))\n",
    "\n",
    "print(expectation_value)\n"
   ]
  },
  {
   "cell_type": "markdown",
   "metadata": {},
   "source": [
    "***\n",
    "# Outcome:\n",
    "\n",
    "- We can generate pauli operators of any locality.\n",
    "- we can evaluate the pauli operators expectation.\n"
   ]
  },
  {
   "cell_type": "markdown",
   "metadata": {},
   "source": []
  }
 ],
 "metadata": {
  "kernelspec": {
   "display_name": "Python 3.9.13 ('qugram')",
   "language": "python",
   "name": "python3"
  },
  "language_info": {
   "codemirror_mode": {
    "name": "ipython",
    "version": 3
   },
   "file_extension": ".py",
   "mimetype": "text/x-python",
   "name": "python",
   "nbconvert_exporter": "python",
   "pygments_lexer": "ipython3",
   "version": "3.9.13"
  },
  "orig_nbformat": 4,
  "vscode": {
   "interpreter": {
    "hash": "a4fba1bd487736e99db9fa6cac304ab42b086d6841ec6a317a1275c4a1deb14e"
   }
  }
 },
 "nbformat": 4,
 "nbformat_minor": 2
}
