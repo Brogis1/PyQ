{
 "cells": [
  {
   "cell_type": "markdown",
   "metadata": {},
   "source": [
    "# Evaluation of the operator constructed in openfermion on the state.\n"
   ]
  },
  {
   "cell_type": "code",
   "execution_count": 64,
   "metadata": {},
   "outputs": [],
   "source": [
    "from pyqtorch.core.operation import Z, Y, X, RX\n",
    "from pyqtorch.embedding import SingleLayerEncoding\n",
    "from pyqtorch.ansatz import AlternateLayerAnsatz\n",
    "from pyqtorch.core.circuit import QuantumCircuit\n",
    "from pyqtorch.core.measurement import total_magnetization\n",
    "\n",
    "import matplotlib.pyplot as plt\n",
    "\n",
    "import torch\n",
    "import torch.nn as nn\n",
    "import torch.nn.functional as F\n",
    "import torch.nn.init as init\n",
    "\n",
    "import math\n",
    "import networkx as nx\n",
    "import numpy as np\n",
    "import matplotlib as mpl\n",
    "\n",
    "mpl.rcParams[\"figure.figsize\"] = [5, 5]"
   ]
  },
  {
   "cell_type": "code",
   "execution_count": 70,
   "metadata": {},
   "outputs": [
    {
     "name": "stdout",
     "output_type": "stream",
     "text": [
      "\n",
      "0.5 [] +\n",
      "-1.0 [X0 X1] +\n",
      "-1.0 [X0 Z1 X2] +\n",
      "-1.0 [Y0 Y1] +\n",
      "-1.0 [Y0 Z1 Y2] +\n",
      "-0.375 [Z0] +\n",
      "0.25 [Z0 Z1] +\n",
      "0.25 [Z0 Z2] +\n",
      "-1.0 [X1 Z2 X3] +\n",
      "-1.0 [Y1 Z2 Y3] +\n",
      "-0.375 [Z1] +\n",
      "0.25 [Z1 Z3] +\n",
      "-1.0 [X2 X3] +\n",
      "-1.0 [Y2 Y3] +\n",
      "-0.375 [Z2] +\n",
      "0.25 [Z2 Z3] +\n",
      "-0.375 [Z3]\n",
      "\n",
      "  (1, 1)\t(-0.25+0j)\n",
      "  (2, 1)\t(-2+0j)\n",
      "  (4, 1)\t(-2+0j)\n",
      "  (1, 2)\t(-2+0j)\n",
      "  (2, 2)\t(-0.25+0j)\n",
      "  (8, 2)\t(-2+0j)\n",
      "  (3, 3)\t(0.5+0j)\n",
      "  (6, 3)\t(2+0j)\n",
      "  (9, 3)\t(-2+0j)\n",
      "  (1, 4)\t(-2+0j)\n",
      "  (4, 4)\t(-0.25+0j)\n",
      "  (8, 4)\t(-2+0j)\n",
      "  (5, 5)\t(0.5+0j)\n",
      "  (6, 5)\t(-2+0j)\n",
      "  (9, 5)\t(-2+0j)\n",
      "  (3, 6)\t(2+0j)\n",
      "  (5, 6)\t(-2+0j)\n",
      "  (6, 6)\t(-0.5+0j)\n",
      "  (10, 6)\t(-2+0j)\n",
      "  (12, 6)\t(2+0j)\n",
      "  (7, 7)\t(1.25+0j)\n",
      "  (11, 7)\t(-2+0j)\n",
      "  (13, 7)\t(2+0j)\n",
      "  (2, 8)\t(-2+0j)\n",
      "  (4, 8)\t(-2+0j)\n",
      "  (8, 8)\t(-0.25+0j)\n",
      "  (3, 9)\t(-2+0j)\n",
      "  (5, 9)\t(-2+0j)\n",
      "  (9, 9)\t(-0.5+0j)\n",
      "  (10, 9)\t(-2+0j)\n",
      "  (12, 9)\t(-2+0j)\n",
      "  (6, 10)\t(-2+0j)\n",
      "  (9, 10)\t(-2+0j)\n",
      "  (10, 10)\t(0.5+0j)\n",
      "  (7, 11)\t(-2+0j)\n",
      "  (11, 11)\t(1.25+0j)\n",
      "  (14, 11)\t(2+0j)\n",
      "  (6, 12)\t(2+0j)\n",
      "  (9, 12)\t(-2+0j)\n",
      "  (12, 12)\t(0.5+0j)\n",
      "  (7, 13)\t(2+0j)\n",
      "  (13, 13)\t(1.25+0j)\n",
      "  (14, 13)\t(-2+0j)\n",
      "  (11, 14)\t(2+0j)\n",
      "  (13, 14)\t(-2+0j)\n",
      "  (14, 14)\t(1.25+0j)\n",
      "  (15, 15)\t(3+0j)\n",
      "\n",
      "Energy of the model is -4.2499999999999964 in units of T and J.\n"
     ]
    }
   ],
   "source": [
    "from openfermion.hamiltonians import fermi_hubbard\n",
    "from openfermion.linalg import get_sparse_operator, get_ground_state\n",
    "from openfermion.transforms import jordan_wigner\n",
    "\n",
    "\n",
    "# Set model.\n",
    "x_dimension = 2\n",
    "y_dimension = 2\n",
    "tunneling = 2.0\n",
    "coulomb = 1.0\n",
    "magnetic_field = 0.5\n",
    "chemical_potential = 0.25\n",
    "periodic = 1\n",
    "spinless = 1\n",
    "\n",
    "# Get fermion operator.\n",
    "hubbard_model = fermi_hubbard(\n",
    "    x_dimension,\n",
    "    y_dimension,\n",
    "    tunneling,\n",
    "    coulomb,\n",
    "    chemical_potential,\n",
    "    magnetic_field,\n",
    "    periodic,\n",
    "    spinless,\n",
    ")\n",
    "# print(hubbard_model)\n",
    "\n",
    "# Get qubit operator under Jordan-Wigner.\n",
    "jw_hamiltonian = jordan_wigner(hubbard_model)\n",
    "# Removes zero entries.\n",
    "jw_hamiltonian.compress()\n",
    "print(\"\")\n",
    "print(jw_hamiltonian)\n",
    "\n",
    "# Get scipy.sparse.csc representation.\n",
    "sparse_operator = get_sparse_operator(hubbard_model)\n",
    "print(\"\")\n",
    "print(sparse_operator)\n",
    "print(\n",
    "    \"\\nEnergy of the model is {} in units of T and J.\".format(\n",
    "        get_ground_state(sparse_operator)[0]\n",
    "    )\n",
    ")"
   ]
  },
  {
   "cell_type": "code",
   "execution_count": 71,
   "metadata": {},
   "outputs": [],
   "source": [
    "from openfermion.utils import count_qubits\n",
    "\n",
    "n_qubits = count_qubits(jw_hamiltonian)"
   ]
  },
  {
   "cell_type": "code",
   "execution_count": 72,
   "metadata": {},
   "outputs": [
    {
     "name": "stdout",
     "output_type": "stream",
     "text": [
      "((0, 'Y'), (1, 'Y')) -1.0\n",
      "0 Y\n",
      "1 Y\n",
      "((0, 'X'), (1, 'X')) -1.0\n",
      "0 X\n",
      "1 X\n",
      "() 0.5\n",
      "((1, 'Z'),) -0.375\n",
      "1 Z\n",
      "((0, 'Z'),) -0.375\n",
      "0 Z\n",
      "((0, 'Z'), (1, 'Z')) 0.25\n",
      "0 Z\n",
      "1 Z\n",
      "((0, 'Y'), (1, 'Z'), (2, 'Y')) -1.0\n",
      "0 Y\n",
      "1 Z\n",
      "2 Y\n",
      "((0, 'X'), (1, 'Z'), (2, 'X')) -1.0\n",
      "0 X\n",
      "1 Z\n",
      "2 X\n",
      "((2, 'Z'),) -0.375\n",
      "2 Z\n",
      "((0, 'Z'), (2, 'Z')) 0.25\n",
      "0 Z\n",
      "2 Z\n",
      "((1, 'Y'), (2, 'Z'), (3, 'Y')) -1.0\n",
      "1 Y\n",
      "2 Z\n",
      "3 Y\n",
      "((1, 'X'), (2, 'Z'), (3, 'X')) -1.0\n",
      "1 X\n",
      "2 Z\n",
      "3 X\n",
      "((3, 'Z'),) -0.375\n",
      "3 Z\n",
      "((1, 'Z'), (3, 'Z')) 0.25\n",
      "1 Z\n",
      "3 Z\n",
      "((2, 'Y'), (3, 'Y')) -1.0\n",
      "2 Y\n",
      "3 Y\n",
      "((2, 'X'), (3, 'X')) -1.0\n",
      "2 X\n",
      "3 X\n",
      "((2, 'Z'), (3, 'Z')) 0.25\n",
      "2 Z\n",
      "3 Z\n"
     ]
    }
   ],
   "source": [
    "# Generate operators for the hamiltonian.\n",
    "operator = jw_hamiltonian\n",
    "for op, coef in operator.terms.items():\n",
    "    print(op, coef)\n",
    "    for qubit, pauli in op:\n",
    "        print(qubit, pauli)"
   ]
  },
  {
   "cell_type": "code",
   "execution_count": 73,
   "metadata": {},
   "outputs": [
    {
     "name": "stdout",
     "output_type": "stream",
     "text": [
      "tensor([[[[[1.+0.j, 1.+0.j, 1.+0.j],\n",
      "           [0.+0.j, 0.+0.j, 0.+0.j]],\n",
      "\n",
      "          [[0.+0.j, 0.+0.j, 0.+0.j],\n",
      "           [0.+0.j, 0.+0.j, 0.+0.j]]],\n",
      "\n",
      "\n",
      "         [[[0.+0.j, 0.+0.j, 0.+0.j],\n",
      "           [0.+0.j, 0.+0.j, 0.+0.j]],\n",
      "\n",
      "          [[0.+0.j, 0.+0.j, 0.+0.j],\n",
      "           [0.+0.j, 0.+0.j, 0.+0.j]]]],\n",
      "\n",
      "\n",
      "\n",
      "        [[[[0.+0.j, 0.+0.j, 0.+0.j],\n",
      "           [0.+0.j, 0.+0.j, 0.+0.j]],\n",
      "\n",
      "          [[0.+0.j, 0.+0.j, 0.+0.j],\n",
      "           [0.+0.j, 0.+0.j, 0.+0.j]]],\n",
      "\n",
      "\n",
      "         [[[0.+0.j, 0.+0.j, 0.+0.j],\n",
      "           [0.+0.j, 0.+0.j, 0.+0.j]],\n",
      "\n",
      "          [[0.+0.j, 0.+0.j, 0.+0.j],\n",
      "           [0.+0.j, 0.+0.j, 0.+0.j]]]]], dtype=torch.complex128)\n",
      "torch.Size([2, 2, 2, 2, 3])\n"
     ]
    }
   ],
   "source": [
    "# Generate state with different batches.\n",
    "batch_size = 3\n",
    "state = QuantumCircuit(n_qubits).init_state(batch_size)\n",
    "# Reshaping was only necessary for the expectation value.\n",
    "# state = state.reshape((2**n_qubits, batch_size))\n",
    "print(state)\n",
    "print(state.shape)\n"
   ]
  },
  {
   "cell_type": "code",
   "execution_count": 76,
   "metadata": {},
   "outputs": [
    {
     "data": {
      "text/plain": [
       "tensor([-3.5000, -3.5000, -3.5000], dtype=torch.float64)"
      ]
     },
     "execution_count": 76,
     "metadata": {},
     "output_type": "execute_result"
    }
   ],
   "source": [
    "from pyqtorch.core.measurement import measure_openfermion\n",
    "\n",
    "measure_openfermion(state, jw_hamiltonian, n_qubits, batch_size)"
   ]
  },
  {
   "cell_type": "code",
   "execution_count": 77,
   "metadata": {},
   "outputs": [
    {
     "data": {
      "text/plain": [
       "tensor([4., 4., 4.], dtype=torch.float64)"
      ]
     },
     "execution_count": 77,
     "metadata": {},
     "output_type": "execute_result"
    }
   ],
   "source": [
    "total_magnetization(state, n_qubits, batch_size)"
   ]
  },
  {
   "cell_type": "markdown",
   "metadata": {},
   "source": [
    "#### The state is |0000> since every state 0 contributes with spin +1 to the total magnerization.\n"
   ]
  },
  {
   "cell_type": "markdown",
   "metadata": {},
   "source": [
    "***\n",
    "# Outcome:\n",
    "\n",
    "- We can create any operator in openfermion and then evaluate the expectation.\n"
   ]
  },
  {
   "cell_type": "markdown",
   "metadata": {},
   "source": []
  }
 ],
 "metadata": {
  "kernelspec": {
   "display_name": "Python 3.9.13 ('qugram')",
   "language": "python",
   "name": "python3"
  },
  "language_info": {
   "codemirror_mode": {
    "name": "ipython",
    "version": 3
   },
   "file_extension": ".py",
   "mimetype": "text/x-python",
   "name": "python",
   "nbconvert_exporter": "python",
   "pygments_lexer": "ipython3",
   "version": "3.9.13"
  },
  "orig_nbformat": 4,
  "vscode": {
   "interpreter": {
    "hash": "a4fba1bd487736e99db9fa6cac304ab42b086d6841ec6a317a1275c4a1deb14e"
   }
  }
 },
 "nbformat": 4,
 "nbformat_minor": 2
}
